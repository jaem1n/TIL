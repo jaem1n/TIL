{
 "cells": [
  {
   "cell_type": "code",
   "execution_count": 1,
   "metadata": {},
   "outputs": [],
   "source": [
    "import pandas as pd"
   ]
  },
  {
   "cell_type": "code",
   "execution_count": 2,
   "metadata": {},
   "outputs": [],
   "source": [
    "train = pd.read_csv('/Users/jaemin/Documents/dacon/funda_train.csv')\n",
    "# 엑셀파일 읽을 때: pd.read_excel"
   ]
  },
  {
   "cell_type": "code",
   "execution_count": 3,
   "metadata": {},
   "outputs": [
    {
     "data": {
      "text/html": [
       "<div>\n",
       "<style scoped>\n",
       "    .dataframe tbody tr th:only-of-type {\n",
       "        vertical-align: middle;\n",
       "    }\n",
       "\n",
       "    .dataframe tbody tr th {\n",
       "        vertical-align: top;\n",
       "    }\n",
       "\n",
       "    .dataframe thead th {\n",
       "        text-align: right;\n",
       "    }\n",
       "</style>\n",
       "<table border=\"1\" class=\"dataframe\">\n",
       "  <thead>\n",
       "    <tr style=\"text-align: right;\">\n",
       "      <th></th>\n",
       "      <th>store_id</th>\n",
       "      <th>card_id</th>\n",
       "      <th>card_company</th>\n",
       "      <th>transacted_date</th>\n",
       "      <th>transacted_time</th>\n",
       "      <th>installment_term</th>\n",
       "      <th>region</th>\n",
       "      <th>type_of_business</th>\n",
       "      <th>amount</th>\n",
       "    </tr>\n",
       "  </thead>\n",
       "  <tbody>\n",
       "    <tr>\n",
       "      <th>0</th>\n",
       "      <td>0</td>\n",
       "      <td>0</td>\n",
       "      <td>b</td>\n",
       "      <td>2016-06-01</td>\n",
       "      <td>13:13</td>\n",
       "      <td>0</td>\n",
       "      <td>NaN</td>\n",
       "      <td>기타 미용업</td>\n",
       "      <td>1857.142857</td>\n",
       "    </tr>\n",
       "    <tr>\n",
       "      <th>1</th>\n",
       "      <td>0</td>\n",
       "      <td>1</td>\n",
       "      <td>h</td>\n",
       "      <td>2016-06-01</td>\n",
       "      <td>18:12</td>\n",
       "      <td>0</td>\n",
       "      <td>NaN</td>\n",
       "      <td>기타 미용업</td>\n",
       "      <td>857.142857</td>\n",
       "    </tr>\n",
       "    <tr>\n",
       "      <th>2</th>\n",
       "      <td>0</td>\n",
       "      <td>2</td>\n",
       "      <td>c</td>\n",
       "      <td>2016-06-01</td>\n",
       "      <td>18:52</td>\n",
       "      <td>0</td>\n",
       "      <td>NaN</td>\n",
       "      <td>기타 미용업</td>\n",
       "      <td>2000.000000</td>\n",
       "    </tr>\n",
       "    <tr>\n",
       "      <th>3</th>\n",
       "      <td>0</td>\n",
       "      <td>3</td>\n",
       "      <td>a</td>\n",
       "      <td>2016-06-01</td>\n",
       "      <td>20:22</td>\n",
       "      <td>0</td>\n",
       "      <td>NaN</td>\n",
       "      <td>기타 미용업</td>\n",
       "      <td>7857.142857</td>\n",
       "    </tr>\n",
       "    <tr>\n",
       "      <th>4</th>\n",
       "      <td>0</td>\n",
       "      <td>4</td>\n",
       "      <td>c</td>\n",
       "      <td>2016-06-02</td>\n",
       "      <td>11:06</td>\n",
       "      <td>0</td>\n",
       "      <td>NaN</td>\n",
       "      <td>기타 미용업</td>\n",
       "      <td>2000.000000</td>\n",
       "    </tr>\n",
       "  </tbody>\n",
       "</table>\n",
       "</div>"
      ],
      "text/plain": [
       "   store_id  card_id card_company transacted_date transacted_time  \\\n",
       "0         0        0            b      2016-06-01           13:13   \n",
       "1         0        1            h      2016-06-01           18:12   \n",
       "2         0        2            c      2016-06-01           18:52   \n",
       "3         0        3            a      2016-06-01           20:22   \n",
       "4         0        4            c      2016-06-02           11:06   \n",
       "\n",
       "   installment_term region type_of_business       amount  \n",
       "0                 0    NaN           기타 미용업  1857.142857  \n",
       "1                 0    NaN           기타 미용업   857.142857  \n",
       "2                 0    NaN           기타 미용업  2000.000000  \n",
       "3                 0    NaN           기타 미용업  7857.142857  \n",
       "4                 0    NaN           기타 미용업  2000.000000  "
      ]
     },
     "execution_count": 3,
     "metadata": {},
     "output_type": "execute_result"
    }
   ],
   "source": [
    "train.head(5)"
   ]
  },
  {
   "cell_type": "code",
   "execution_count": 4,
   "metadata": {},
   "outputs": [
    {
     "data": {
      "text/plain": [
       "6556613"
      ]
     },
     "execution_count": 4,
     "metadata": {},
     "output_type": "execute_result"
    }
   ],
   "source": [
    "# 잘못된 파일을 불러왔을 수도 있으므로 길이부터 확인한다.\n",
    "len(train)"
   ]
  },
  {
   "cell_type": "code",
   "execution_count": 5,
   "metadata": {},
   "outputs": [
    {
     "data": {
      "text/html": [
       "<div>\n",
       "<style scoped>\n",
       "    .dataframe tbody tr th:only-of-type {\n",
       "        vertical-align: middle;\n",
       "    }\n",
       "\n",
       "    .dataframe tbody tr th {\n",
       "        vertical-align: top;\n",
       "    }\n",
       "\n",
       "    .dataframe thead th {\n",
       "        text-align: right;\n",
       "    }\n",
       "</style>\n",
       "<table border=\"1\" class=\"dataframe\">\n",
       "  <thead>\n",
       "    <tr style=\"text-align: right;\">\n",
       "      <th></th>\n",
       "      <th>store_id</th>\n",
       "      <th>card_id</th>\n",
       "      <th>installment_term</th>\n",
       "      <th>amount</th>\n",
       "    </tr>\n",
       "  </thead>\n",
       "  <tbody>\n",
       "    <tr>\n",
       "      <th>count</th>\n",
       "      <td>6.556613e+06</td>\n",
       "      <td>6.556613e+06</td>\n",
       "      <td>6.556613e+06</td>\n",
       "      <td>6.556613e+06</td>\n",
       "    </tr>\n",
       "    <tr>\n",
       "      <th>mean</th>\n",
       "      <td>1.084930e+03</td>\n",
       "      <td>2.268127e+06</td>\n",
       "      <td>1.382017e-01</td>\n",
       "      <td>1.043511e+04</td>\n",
       "    </tr>\n",
       "    <tr>\n",
       "      <th>std</th>\n",
       "      <td>6.152183e+02</td>\n",
       "      <td>1.351058e+06</td>\n",
       "      <td>1.188152e+00</td>\n",
       "      <td>3.104031e+04</td>\n",
       "    </tr>\n",
       "    <tr>\n",
       "      <th>min</th>\n",
       "      <td>0.000000e+00</td>\n",
       "      <td>0.000000e+00</td>\n",
       "      <td>0.000000e+00</td>\n",
       "      <td>-2.771429e+06</td>\n",
       "    </tr>\n",
       "    <tr>\n",
       "      <th>25%</th>\n",
       "      <td>5.860000e+02</td>\n",
       "      <td>1.088828e+06</td>\n",
       "      <td>0.000000e+00</td>\n",
       "      <td>2.142857e+03</td>\n",
       "    </tr>\n",
       "    <tr>\n",
       "      <th>50%</th>\n",
       "      <td>1.074000e+03</td>\n",
       "      <td>2.239304e+06</td>\n",
       "      <td>0.000000e+00</td>\n",
       "      <td>4.285714e+03</td>\n",
       "    </tr>\n",
       "    <tr>\n",
       "      <th>75%</th>\n",
       "      <td>1.615000e+03</td>\n",
       "      <td>3.438488e+06</td>\n",
       "      <td>0.000000e+00</td>\n",
       "      <td>8.571429e+03</td>\n",
       "    </tr>\n",
       "    <tr>\n",
       "      <th>max</th>\n",
       "      <td>2.136000e+03</td>\n",
       "      <td>4.663856e+06</td>\n",
       "      <td>9.300000e+01</td>\n",
       "      <td>5.571429e+06</td>\n",
       "    </tr>\n",
       "  </tbody>\n",
       "</table>\n",
       "</div>"
      ],
      "text/plain": [
       "           store_id       card_id  installment_term        amount\n",
       "count  6.556613e+06  6.556613e+06      6.556613e+06  6.556613e+06\n",
       "mean   1.084930e+03  2.268127e+06      1.382017e-01  1.043511e+04\n",
       "std    6.152183e+02  1.351058e+06      1.188152e+00  3.104031e+04\n",
       "min    0.000000e+00  0.000000e+00      0.000000e+00 -2.771429e+06\n",
       "25%    5.860000e+02  1.088828e+06      0.000000e+00  2.142857e+03\n",
       "50%    1.074000e+03  2.239304e+06      0.000000e+00  4.285714e+03\n",
       "75%    1.615000e+03  3.438488e+06      0.000000e+00  8.571429e+03\n",
       "max    2.136000e+03  4.663856e+06      9.300000e+01  5.571429e+06"
      ]
     },
     "execution_count": 5,
     "metadata": {},
     "output_type": "execute_result"
    }
   ],
   "source": [
    "train.describe()"
   ]
  },
  {
   "cell_type": "code",
   "execution_count": 6,
   "metadata": {},
   "outputs": [
    {
     "data": {
      "text/plain": [
       "Index(['store_id', 'card_id', 'card_company', 'transacted_date',\n",
       "       'transacted_time', 'installment_term', 'region', 'type_of_business',\n",
       "       'amount'],\n",
       "      dtype='object')"
      ]
     },
     "execution_count": 6,
     "metadata": {},
     "output_type": "execute_result"
    }
   ],
   "source": [
    "train.columns"
   ]
  },
  {
   "cell_type": "code",
   "execution_count": 7,
   "metadata": {},
   "outputs": [
    {
     "data": {
      "text/plain": [
       "store_id              int64\n",
       "card_id               int64\n",
       "card_company         object\n",
       "transacted_date      object\n",
       "transacted_time      object\n",
       "installment_term      int64\n",
       "region               object\n",
       "type_of_business     object\n",
       "amount              float64\n",
       "dtype: object"
      ]
     },
     "execution_count": 7,
     "metadata": {},
     "output_type": "execute_result"
    }
   ],
   "source": [
    "train.dtypes"
   ]
  },
  {
   "cell_type": "markdown",
   "metadata": {},
   "source": [
    "### to do: 2019년 3월 1일부터 2019년 5월 31일까지 상점별로 총 매출을 계산\n",
    "### solution: 2018년 3월 1일부터 2018년 5월 31일까지 상점별 매출액과 같은 값으로 함 (seasonality) "
   ]
  },
  {
   "cell_type": "code",
   "execution_count": 8,
   "metadata": {},
   "outputs": [
    {
     "data": {
      "text/html": [
       "<div>\n",
       "<style scoped>\n",
       "    .dataframe tbody tr th:only-of-type {\n",
       "        vertical-align: middle;\n",
       "    }\n",
       "\n",
       "    .dataframe tbody tr th {\n",
       "        vertical-align: top;\n",
       "    }\n",
       "\n",
       "    .dataframe thead th {\n",
       "        text-align: right;\n",
       "    }\n",
       "</style>\n",
       "<table border=\"1\" class=\"dataframe\">\n",
       "  <thead>\n",
       "    <tr style=\"text-align: right;\">\n",
       "      <th></th>\n",
       "      <th>store_id</th>\n",
       "      <th>card_id</th>\n",
       "      <th>card_company</th>\n",
       "      <th>transacted_date</th>\n",
       "      <th>transacted_time</th>\n",
       "      <th>installment_term</th>\n",
       "      <th>region</th>\n",
       "      <th>type_of_business</th>\n",
       "      <th>amount</th>\n",
       "    </tr>\n",
       "  </thead>\n",
       "  <tbody>\n",
       "    <tr>\n",
       "      <th>2938</th>\n",
       "      <td>0</td>\n",
       "      <td>855</td>\n",
       "      <td>a</td>\n",
       "      <td>2018-03-01</td>\n",
       "      <td>10:21</td>\n",
       "      <td>0</td>\n",
       "      <td>NaN</td>\n",
       "      <td>기타 미용업</td>\n",
       "      <td>1857.142857</td>\n",
       "    </tr>\n",
       "    <tr>\n",
       "      <th>2939</th>\n",
       "      <td>0</td>\n",
       "      <td>1278</td>\n",
       "      <td>g</td>\n",
       "      <td>2018-03-01</td>\n",
       "      <td>14:47</td>\n",
       "      <td>0</td>\n",
       "      <td>NaN</td>\n",
       "      <td>기타 미용업</td>\n",
       "      <td>7142.857143</td>\n",
       "    </tr>\n",
       "    <tr>\n",
       "      <th>2940</th>\n",
       "      <td>0</td>\n",
       "      <td>177</td>\n",
       "      <td>h</td>\n",
       "      <td>2018-03-01</td>\n",
       "      <td>16:50</td>\n",
       "      <td>0</td>\n",
       "      <td>NaN</td>\n",
       "      <td>기타 미용업</td>\n",
       "      <td>2000.000000</td>\n",
       "    </tr>\n",
       "    <tr>\n",
       "      <th>2941</th>\n",
       "      <td>0</td>\n",
       "      <td>857</td>\n",
       "      <td>a</td>\n",
       "      <td>2018-03-01</td>\n",
       "      <td>16:51</td>\n",
       "      <td>0</td>\n",
       "      <td>NaN</td>\n",
       "      <td>기타 미용업</td>\n",
       "      <td>10000.000000</td>\n",
       "    </tr>\n",
       "    <tr>\n",
       "      <th>2942</th>\n",
       "      <td>0</td>\n",
       "      <td>1279</td>\n",
       "      <td>g</td>\n",
       "      <td>2018-03-01</td>\n",
       "      <td>18:29</td>\n",
       "      <td>0</td>\n",
       "      <td>NaN</td>\n",
       "      <td>기타 미용업</td>\n",
       "      <td>7714.285714</td>\n",
       "    </tr>\n",
       "  </tbody>\n",
       "</table>\n",
       "</div>"
      ],
      "text/plain": [
       "      store_id  card_id card_company transacted_date transacted_time  \\\n",
       "2938         0      855            a      2018-03-01           10:21   \n",
       "2939         0     1278            g      2018-03-01           14:47   \n",
       "2940         0      177            h      2018-03-01           16:50   \n",
       "2941         0      857            a      2018-03-01           16:51   \n",
       "2942         0     1279            g      2018-03-01           18:29   \n",
       "\n",
       "      installment_term region type_of_business        amount  \n",
       "2938                 0    NaN           기타 미용업   1857.142857  \n",
       "2939                 0    NaN           기타 미용업   7142.857143  \n",
       "2940                 0    NaN           기타 미용업   2000.000000  \n",
       "2941                 0    NaN           기타 미용업  10000.000000  \n",
       "2942                 0    NaN           기타 미용업   7714.285714  "
      ]
     },
     "execution_count": 8,
     "metadata": {},
     "output_type": "execute_result"
    }
   ],
   "source": [
    "train_2018 = train[(train['transacted_date']>='2018-03-01') & (train['transacted_date']<='2018-05-31')] \n",
    "train_2018.head(5)"
   ]
  },
  {
   "cell_type": "code",
   "execution_count": 66,
   "metadata": {},
   "outputs": [
    {
     "data": {
      "text/plain": [
       "store_id\n",
       "0    2.171000e+06\n",
       "1    2.977143e+05\n",
       "2    9.461429e+05\n",
       "Name: amount, dtype: float64"
      ]
     },
     "execution_count": 66,
     "metadata": {},
     "output_type": "execute_result"
    }
   ],
   "source": [
    "train_2018_amount = train_2018.groupby('store_id')['amount'].sum()\n",
    "train_2018_amount.head(3)"
   ]
  },
  {
   "cell_type": "code",
   "execution_count": 14,
   "metadata": {},
   "outputs": [
    {
     "data": {
      "text/html": [
       "<div>\n",
       "<style scoped>\n",
       "    .dataframe tbody tr th:only-of-type {\n",
       "        vertical-align: middle;\n",
       "    }\n",
       "\n",
       "    .dataframe tbody tr th {\n",
       "        vertical-align: top;\n",
       "    }\n",
       "\n",
       "    .dataframe thead th {\n",
       "        text-align: right;\n",
       "    }\n",
       "</style>\n",
       "<table border=\"1\" class=\"dataframe\">\n",
       "  <thead>\n",
       "    <tr style=\"text-align: right;\">\n",
       "      <th></th>\n",
       "      <th>installment_term</th>\n",
       "      <th>amount</th>\n",
       "    </tr>\n",
       "    <tr>\n",
       "      <th>store_id</th>\n",
       "      <th></th>\n",
       "      <th></th>\n",
       "    </tr>\n",
       "  </thead>\n",
       "  <tbody>\n",
       "    <tr>\n",
       "      <th>0</th>\n",
       "      <td>0.105793</td>\n",
       "      <td>2.171000e+06</td>\n",
       "    </tr>\n",
       "    <tr>\n",
       "      <th>1</th>\n",
       "      <td>0.000000</td>\n",
       "      <td>2.977143e+05</td>\n",
       "    </tr>\n",
       "    <tr>\n",
       "      <th>2</th>\n",
       "      <td>0.219178</td>\n",
       "      <td>9.461429e+05</td>\n",
       "    </tr>\n",
       "  </tbody>\n",
       "</table>\n",
       "</div>"
      ],
      "text/plain": [
       "          installment_term        amount\n",
       "store_id                                \n",
       "0                 0.105793  2.171000e+06\n",
       "1                 0.000000  2.977143e+05\n",
       "2                 0.219178  9.461429e+05"
      ]
     },
     "execution_count": 14,
     "metadata": {},
     "output_type": "execute_result"
    }
   ],
   "source": [
    "train_2018_2 = train_2018.groupby(['store_id']).agg({'installment_term':'mean', 'amount':'sum'})  \n",
    "# 2개 이상의 컬럼에 각각 다른 함수 적용할 때 : agg({'컬럼명1':'함수명1'}, {'컬럼명2':'함수명2'}, ...)\n",
    "train_2018_2.head(3)"
   ]
  },
  {
   "cell_type": "code",
   "execution_count": 15,
   "metadata": {},
   "outputs": [
    {
     "data": {
      "text/plain": [
       "1955"
      ]
     },
     "execution_count": 15,
     "metadata": {},
     "output_type": "execute_result"
    }
   ],
   "source": [
    "train_2018['store_id'].nunique()"
   ]
  },
  {
   "cell_type": "code",
   "execution_count": 67,
   "metadata": {},
   "outputs": [],
   "source": [
    "train_2018_amount.to_csv('/Users/jaemin/Documents/dacon/0812_1.csv', header=True)"
   ]
  },
  {
   "cell_type": "code",
   "execution_count": 68,
   "metadata": {},
   "outputs": [
    {
     "data": {
      "text/html": [
       "<div>\n",
       "<style scoped>\n",
       "    .dataframe tbody tr th:only-of-type {\n",
       "        vertical-align: middle;\n",
       "    }\n",
       "\n",
       "    .dataframe tbody tr th {\n",
       "        vertical-align: top;\n",
       "    }\n",
       "\n",
       "    .dataframe thead th {\n",
       "        text-align: right;\n",
       "    }\n",
       "</style>\n",
       "<table border=\"1\" class=\"dataframe\">\n",
       "  <thead>\n",
       "    <tr style=\"text-align: right;\">\n",
       "      <th></th>\n",
       "      <th>store_id</th>\n",
       "      <th>amount</th>\n",
       "    </tr>\n",
       "  </thead>\n",
       "  <tbody>\n",
       "    <tr>\n",
       "      <th>0</th>\n",
       "      <td>0</td>\n",
       "      <td>2.171000e+06</td>\n",
       "    </tr>\n",
       "    <tr>\n",
       "      <th>1</th>\n",
       "      <td>1</td>\n",
       "      <td>2.977143e+05</td>\n",
       "    </tr>\n",
       "    <tr>\n",
       "      <th>2</th>\n",
       "      <td>2</td>\n",
       "      <td>9.461429e+05</td>\n",
       "    </tr>\n",
       "    <tr>\n",
       "      <th>3</th>\n",
       "      <td>4</td>\n",
       "      <td>2.475643e+06</td>\n",
       "    </tr>\n",
       "    <tr>\n",
       "      <th>4</th>\n",
       "      <td>5</td>\n",
       "      <td>1.111857e+06</td>\n",
       "    </tr>\n",
       "  </tbody>\n",
       "</table>\n",
       "</div>"
      ],
      "text/plain": [
       "   store_id        amount\n",
       "0         0  2.171000e+06\n",
       "1         1  2.977143e+05\n",
       "2         2  9.461429e+05\n",
       "3         4  2.475643e+06\n",
       "4         5  1.111857e+06"
      ]
     },
     "execution_count": 68,
     "metadata": {},
     "output_type": "execute_result"
    }
   ],
   "source": [
    "read_test = pd.read_csv('/Users/jaemin/Documents/dacon/0812_1.csv')\n",
    "read_test.head()"
   ]
  },
  {
   "cell_type": "code",
   "execution_count": 18,
   "metadata": {},
   "outputs": [
    {
     "data": {
      "text/html": [
       "<div>\n",
       "<style scoped>\n",
       "    .dataframe tbody tr th:only-of-type {\n",
       "        vertical-align: middle;\n",
       "    }\n",
       "\n",
       "    .dataframe tbody tr th {\n",
       "        vertical-align: top;\n",
       "    }\n",
       "\n",
       "    .dataframe thead th {\n",
       "        text-align: right;\n",
       "    }\n",
       "</style>\n",
       "<table border=\"1\" class=\"dataframe\">\n",
       "  <thead>\n",
       "    <tr style=\"text-align: right;\">\n",
       "      <th></th>\n",
       "      <th>store_id</th>\n",
       "      <th>card_id</th>\n",
       "      <th>card_company</th>\n",
       "      <th>transacted_date</th>\n",
       "      <th>transacted_time</th>\n",
       "      <th>installment_term</th>\n",
       "      <th>region</th>\n",
       "      <th>type_of_business</th>\n",
       "      <th>amount</th>\n",
       "    </tr>\n",
       "  </thead>\n",
       "  <tbody>\n",
       "    <tr>\n",
       "      <th>0</th>\n",
       "      <td>0</td>\n",
       "      <td>0</td>\n",
       "      <td>b</td>\n",
       "      <td>2016-06-01</td>\n",
       "      <td>13:13</td>\n",
       "      <td>0</td>\n",
       "      <td>NaN</td>\n",
       "      <td>기타 미용업</td>\n",
       "      <td>1857.142857</td>\n",
       "    </tr>\n",
       "    <tr>\n",
       "      <th>1</th>\n",
       "      <td>0</td>\n",
       "      <td>1</td>\n",
       "      <td>h</td>\n",
       "      <td>2016-06-01</td>\n",
       "      <td>18:12</td>\n",
       "      <td>0</td>\n",
       "      <td>NaN</td>\n",
       "      <td>기타 미용업</td>\n",
       "      <td>857.142857</td>\n",
       "    </tr>\n",
       "    <tr>\n",
       "      <th>2</th>\n",
       "      <td>0</td>\n",
       "      <td>2</td>\n",
       "      <td>c</td>\n",
       "      <td>2016-06-01</td>\n",
       "      <td>18:52</td>\n",
       "      <td>0</td>\n",
       "      <td>NaN</td>\n",
       "      <td>기타 미용업</td>\n",
       "      <td>2000.000000</td>\n",
       "    </tr>\n",
       "  </tbody>\n",
       "</table>\n",
       "</div>"
      ],
      "text/plain": [
       "   store_id  card_id card_company transacted_date transacted_time  \\\n",
       "0         0        0            b      2016-06-01           13:13   \n",
       "1         0        1            h      2016-06-01           18:12   \n",
       "2         0        2            c      2016-06-01           18:52   \n",
       "\n",
       "   installment_term region type_of_business       amount  \n",
       "0                 0    NaN           기타 미용업  1857.142857  \n",
       "1                 0    NaN           기타 미용업   857.142857  \n",
       "2                 0    NaN           기타 미용업  2000.000000  "
      ]
     },
     "execution_count": 18,
     "metadata": {},
     "output_type": "execute_result"
    }
   ],
   "source": [
    "train.head(3)"
   ]
  },
  {
   "cell_type": "markdown",
   "metadata": {},
   "source": [
    "### Q1. 업종전환을 한 가게가 있나요?"
   ]
  },
  {
   "cell_type": "code",
   "execution_count": 46,
   "metadata": {},
   "outputs": [
    {
     "data": {
      "text/plain": [
       "array([1, 0])"
      ]
     },
     "execution_count": 46,
     "metadata": {},
     "output_type": "execute_result"
    }
   ],
   "source": [
    "q1 =train.groupby(['store_id'])['type_of_business'].nunique().unique()\n",
    "q1"
   ]
  },
  {
   "cell_type": "code",
   "execution_count": 58,
   "metadata": {},
   "outputs": [
    {
     "data": {
      "text/plain": [
       "Series([], Name: type_of_business, dtype: int64)"
      ]
     },
     "execution_count": 58,
     "metadata": {},
     "output_type": "execute_result"
    }
   ],
   "source": [
    "q1_2 = train.groupby('store_id')['type_of_business'].nunique()\n",
    "q1_2[q1_2 > 1] \n",
    "# A1: 없다!"
   ]
  },
  {
   "cell_type": "markdown",
   "metadata": {},
   "source": [
    "### Q2. 상점의 지역 별 분포는 어떻게 되나요?"
   ]
  },
  {
   "cell_type": "code",
   "execution_count": 60,
   "metadata": {},
   "outputs": [
    {
     "data": {
      "text/plain": [
       "region\n",
       "강원 강릉시      9\n",
       "강원 삼척시      4\n",
       "강원 속초시      4\n",
       "강원 양구군      1\n",
       "강원 원주시     10\n",
       "강원 철원군      1\n",
       "강원 춘천시     10\n",
       "강원 태백시      2\n",
       "강원 홍천군      1\n",
       "강원 횡성군      2\n",
       "경기 가평군      3\n",
       "경기 고양시     11\n",
       "경기 과천시      2\n",
       "경기 광명시      6\n",
       "경기 광주시     11\n",
       "경기 구리시      7\n",
       "경기 군포시      3\n",
       "경기 김포시      6\n",
       "경기 남양주시    16\n",
       "경기 동두천시     2\n",
       "경기 부천시     21\n",
       "경기 성남시     24\n",
       "경기 수원시     34\n",
       "경기 시흥시      7\n",
       "경기 안산시     14\n",
       "경기 안성시      4\n",
       "경기 안양시     10\n",
       "경기 양주시      5\n",
       "경기 양평군      1\n",
       "경기 연천군      2\n",
       "           ..\n",
       "전남 해남군      2\n",
       "전북 군산시      9\n",
       "전북 김제시      1\n",
       "전북 남원시      1\n",
       "전북 순창군      1\n",
       "전북 익산시      6\n",
       "전북 전주시     20\n",
       "전북 정읍시      4\n",
       "제주 서귀포시     9\n",
       "제주 제주시     22\n",
       "충남 공주시      5\n",
       "충남 금산군      1\n",
       "충남 논산시      2\n",
       "충남 당진시      5\n",
       "충남 보령시      4\n",
       "충남 부여군      1\n",
       "충남 서산시      5\n",
       "충남 서천군      1\n",
       "충남 아산시      8\n",
       "충남 예산군      1\n",
       "충남 천안시     21\n",
       "충남 홍성군      3\n",
       "충북 단양군      1\n",
       "충북 옥천군      2\n",
       "충북 음성군      5\n",
       "충북 제천시      8\n",
       "충북 증평군      2\n",
       "충북 진천군      1\n",
       "충북 청주시     32\n",
       "충북 충주시      9\n",
       "Name: store_id, Length: 180, dtype: int64"
      ]
     },
     "execution_count": 60,
     "metadata": {},
     "output_type": "execute_result"
    }
   ],
   "source": [
    "q2 = train.groupby(['region'])['store_id'].nunique()\n",
    "q2"
   ]
  },
  {
   "cell_type": "markdown",
   "metadata": {},
   "source": [
    "### Q3. 상점의 업종 별 분포는 어떻게 되나요?"
   ]
  },
  {
   "cell_type": "code",
   "execution_count": 61,
   "metadata": {},
   "outputs": [
    {
     "data": {
      "text/plain": [
       "type_of_business\n",
       "가구 소매업                         3\n",
       "가전제품 소매업                       3\n",
       "가정용 세탁업                        5\n",
       "가정용 직물제품 소매업                   2\n",
       "간이음식 포장 판매 전문점                18\n",
       "간판 및 광고물 제조업                   1\n",
       "건강보조식품 소매업                     2\n",
       "게임용구, 인형 및 장난감 소매업             2\n",
       "결혼 상담 및 준비 서비스업                1\n",
       "경영 컨설팅업                        1\n",
       "곡물 및 기타 식량작물 재배업               1\n",
       "골프연습장 운영업                      3\n",
       "공구 소매업                         1\n",
       "귀금속 및 관련제품 제조업                 1\n",
       "그 외 기타 건축자재 도매업                1\n",
       "그 외 기타 나무제품 제조업                1\n",
       "그 외 기타 달리 분류되지 않은 개인 서비스업      4\n",
       "그 외 기타 무점포 소매업                 1\n",
       "그 외 기타 분류 안된 가정용품 소매업          2\n",
       "그 외 기타 분류 안된 교육기관              6\n",
       "그 외 기타 분류 안된 사업지원 서비스업         1\n",
       "그 외 기타 분류 안된 상품 전문 소매업         7\n",
       "그 외 기타 분류 안된 오락관련 서비스업         1\n",
       "그 외 기타 상품 전문 도매업               3\n",
       "그 외 기타 생활용품 도매업                1\n",
       "그 외 기타 스포츠 서비스업                2\n",
       "그 외 기타 스포츠시설 운영업               4\n",
       "그 외 기타 종합 소매업                  2\n",
       "그 외 기타 창작 및 예술관련 서비스업          2\n",
       "기념품, 관광 민예품 및 장식용품 소매업         3\n",
       "                            ... \n",
       "자전거 및 기타 운송장비 소매업              3\n",
       "전자상거래 소매업                     10\n",
       "제과점업                           1\n",
       "종자 및 묘목 도매업                    1\n",
       "주방용품 및 가정용 유리, 요업 제품 소매업       1\n",
       "중식 음식점업                        4\n",
       "채소, 과실 및 뿌리작물 소매업              1\n",
       "철물, 금속 파스너 및 수공구 도매업           3\n",
       "체력단련시설 운영업                     6\n",
       "체인화 편의점                        1\n",
       "체형 등 기타 신체관리 서비스업              6\n",
       "치킨 전문점                        15\n",
       "침구 및 관련제품 제조업                  1\n",
       "커튼 및 침구용품 도매업                  1\n",
       "컴퓨터 및 주변장치, 소프트웨어 소매업          3\n",
       "컴퓨터 학원                         2\n",
       "택배업                            1\n",
       "통신·방송장비 및 부품 도매업               1\n",
       "통신기기 소매업                       4\n",
       "통신장비 수리업                       2\n",
       "페인트, 창호 및 기타 건설자재 소매업          1\n",
       "피부 미용업                         6\n",
       "피자, 햄버거, 샌드위치 및 유사 음식점업        9\n",
       "한복 소매업                         4\n",
       "한식 음식점업                      142\n",
       "한의원                            1\n",
       "화장품 및 화장용품 도매업                 7\n",
       "화장품, 비누 및 방향제 소매업             16\n",
       "화초 및 식물 소매업                    8\n",
       "화훼류 및 식물 도매업                   1\n",
       "Name: store_id, Length: 145, dtype: int64"
      ]
     },
     "execution_count": 61,
     "metadata": {},
     "output_type": "execute_result"
    }
   ],
   "source": [
    "q3 = train.groupby(['type_of_business'])['store_id'].nunique()\n",
    "q3"
   ]
  }
 ],
 "metadata": {
  "kernelspec": {
   "display_name": "Python 3",
   "language": "python",
   "name": "python3"
  },
  "language_info": {
   "codemirror_mode": {
    "name": "ipython",
    "version": 3
   },
   "file_extension": ".py",
   "mimetype": "text/x-python",
   "name": "python",
   "nbconvert_exporter": "python",
   "pygments_lexer": "ipython3",
   "version": "3.7.3"
  }
 },
 "nbformat": 4,
 "nbformat_minor": 2
}
